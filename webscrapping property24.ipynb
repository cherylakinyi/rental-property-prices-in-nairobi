{
 "cells": [
  {
   "cell_type": "code",
   "execution_count": 15,
   "id": "5001611c",
   "metadata": {},
   "outputs": [],
   "source": [
    "from bs4 import BeautifulSoup"
   ]
  },
  {
   "cell_type": "code",
   "execution_count": 16,
   "id": "444a25fe",
   "metadata": {},
   "outputs": [],
   "source": [
    "with open(\"manual.html\", \"r\") as f:\n",
    "    page = f.read()"
   ]
  },
  {
   "cell_type": "code",
   "execution_count": 17,
   "id": "93153f4f",
   "metadata": {},
   "outputs": [],
   "source": [
    "soup = BeautifulSoup(page, \"html.parser\")"
   ]
  },
  {
   "cell_type": "code",
   "execution_count": 18,
   "id": "41116ddb",
   "metadata": {},
   "outputs": [],
   "source": [
    "results = soup.select('div[class=\"sc_listingTilePrice primaryColor\"]')"
   ]
  },
  {
   "cell_type": "code",
   "execution_count": 19,
   "id": "c9a49133",
   "metadata": {},
   "outputs": [
    {
     "data": {
      "text/plain": [
       "'KSh 450 000\\n                \\n\\n                        Per Month'"
      ]
     },
     "execution_count": 19,
     "metadata": {},
     "output_type": "execute_result"
    }
   ],
   "source": [
    "results[0].text.strip()"
   ]
  },
  {
   "cell_type": "code",
   "execution_count": 20,
   "id": "b0e8fff9",
   "metadata": {
    "scrolled": true
   },
   "outputs": [],
   "source": [
    "prices = [r.text.strip() for r in results]"
   ]
  },
  {
   "cell_type": "code",
   "execution_count": 21,
   "id": "1a71c1a0",
   "metadata": {
    "scrolled": true
   },
   "outputs": [],
   "source": [
    "results = soup.select('div[class=\"sc_listingTileArea\"]')"
   ]
  },
  {
   "cell_type": "code",
   "execution_count": 22,
   "id": "7fe4cda9",
   "metadata": {},
   "outputs": [
    {
     "data": {
      "text/plain": [
       "'5 Bedroom House to Rent in Karen'"
      ]
     },
     "execution_count": 22,
     "metadata": {},
     "output_type": "execute_result"
    }
   ],
   "source": [
    "results[0].text.strip()"
   ]
  },
  {
   "cell_type": "code",
   "execution_count": 23,
   "id": "246c31e2",
   "metadata": {},
   "outputs": [],
   "source": [
    "no_bedrooms = [r.text.strip() for r in results]"
   ]
  },
  {
   "cell_type": "code",
   "execution_count": 24,
   "id": "93fe72b2",
   "metadata": {},
   "outputs": [
    {
     "data": {
      "text/plain": [
       "'https://images.prop24.com/ygggjuut6aphjgej3rielb57qi/Crop237x198'"
      ]
     },
     "execution_count": 24,
     "metadata": {},
     "output_type": "execute_result"
    }
   ],
   "source": [
    "results = soup.select('div img')\n",
    "results[0][\"src\"]"
   ]
  },
  {
   "cell_type": "code",
   "execution_count": 25,
   "id": "77d9a38b",
   "metadata": {},
   "outputs": [],
   "source": [
    "images = [r[\"src\"] for r in results]"
   ]
  },
  {
   "cell_type": "code",
   "execution_count": 26,
   "id": "906c5609",
   "metadata": {},
   "outputs": [],
   "source": [
    "rental_houses = list(zip(no_bedrooms, prices, images))"
   ]
  },
  {
   "cell_type": "code",
   "execution_count": 27,
   "id": "53e61e63",
   "metadata": {},
   "outputs": [],
   "source": [
    "def get_rental_houses(page):\n",
    "    soup = BeautifulSoup(page, 'html.parser')\n",
    "    results = soup.select('div[class=\"sc_listingTilePrice primaryColor\"]')\n",
    "    price = [r.text.strip() for r in results]\n",
    "    \n",
    "    results = soup.select('div[class=\"sc_listingTileArea\"]')\n",
    "    no_bedrooms = [r.text.strip() for r in results]\n",
    "    \n",
    "    results = soup.select('div img')\n",
    "    images = [r[\"src\"] for r in results]\n",
    "    \n",
    "    return list(zip(no_bedrooms, price, images))"
   ]
  },
  {
   "cell_type": "code",
   "execution_count": 28,
   "id": "2b0012bf",
   "metadata": {},
   "outputs": [
    {
     "data": {
      "text/plain": [
       "[('5 Bedroom House to Rent in Karen',\n",
       "  'KSh 450 000\\n                \\n\\n                        Per Month',\n",
       "  'https://images.prop24.com/ygggjuut6aphjgej3rielb57qi/Crop237x198'),\n",
       " ('3 Bedroom Apartment / Flat to Rent in Kilimani',\n",
       "  'KSh 280 000\\n                \\n\\n                        Per Month',\n",
       "  '/Content/Images/blank.gif?z=693fc8'),\n",
       " ('5 Bedroom Townhouse to Rent in Karen',\n",
       "  'KSh 350 000\\n                \\n\\n                        Per Month',\n",
       "  '/Property24/Content/Images/icon_360.png'),\n",
       " ('4 Bedroom Townhouse to Rent in Kiambu Road',\n",
       "  'KSh 160 000\\n                \\n\\n                        Per Month',\n",
       "  '/Content/Images/blank.gif?z=693fc8'),\n",
       " ('Commercial Property to Rent in Lavington',\n",
       "  'KSh 180 000\\n                \\n\\n                        Per Month',\n",
       "  '/Content/Images/blank.gif?z=693fc8'),\n",
       " ('4 Bedroom House to Rent in Karen',\n",
       "  'KSh 250 000\\n                \\n\\n                        Per Month',\n",
       "  '/Content/Images/blank.gif?z=693fc8'),\n",
       " ('3 Bedroom Apartment / Flat to Rent in Westlands',\n",
       "  'KSh 150 000\\n                \\n\\n                        Per Month',\n",
       "  'https://images.prop24.com/pefy4jgwpfhuekxi5pxlbghz2m/Crop237x198'),\n",
       " ('3 Bedroom Apartment / Flat to Rent in Westlands',\n",
       "  'KSh 150 000\\n                \\n\\n                        Per Month',\n",
       "  '/Content/Images/blank.gif?z=693fc8'),\n",
       " ('4 Bedroom House to Rent in Kitisuru',\n",
       "  'KSh 465 000\\n                \\n\\n                        Per Month',\n",
       "  '/Content/Images/blank.gif?z=693fc8'),\n",
       " ('2 Bedroom Apartment / Flat to Rent in Westlands',\n",
       "  'KSh 90 000\\n                \\n\\n                        Per Month',\n",
       "  '/Content/Images/blank.gif?z=693fc8'),\n",
       " ('5 Bedroom House to Rent in Karen',\n",
       "  'KSh 350 000\\n                \\n\\n                        Per Month',\n",
       "  '/Content/Images/blank.gif?z=693fc8'),\n",
       " ('3 Bedroom Apartment / Flat to Rent in Lavington',\n",
       "  'KSh 170 000\\n                \\n\\n                        Per Month',\n",
       "  '/Content/Images/blank.gif?z=693fc8'),\n",
       " ('3 Bedroom Apartment / Flat to Rent in Kilimani',\n",
       "  'KSh 100 000\\n                \\n\\n                        Per Month',\n",
       "  'https://images.prop24.com/t7ejm7qbahgb3k7jmlirnd7dyi/Crop237x198'),\n",
       " ('3 Bedroom Apartment / Flat to Rent in Parklands',\n",
       "  'KSh 110 000\\n                \\n\\n                        Per Month',\n",
       "  '/Content/Images/blank.gif?z=693fc8'),\n",
       " ('4 Bedroom Townhouse to Rent in Kilimani',\n",
       "  'KSh 155 000\\n                \\n\\n                        Per Month',\n",
       "  '/Property24/Content/Images/icon_360.png'),\n",
       " ('3 Bedroom Apartment / Flat to Rent in Kilimani',\n",
       "  'KSh 280 000\\n                \\n\\n                        Per Month',\n",
       "  '/Content/Images/blank.gif?z=693fc8'),\n",
       " ('3 Bedroom Apartment / Flat to Rent in Parklands',\n",
       "  'KSh 240 000\\n                \\n\\n                        Per Month',\n",
       "  '/Content/Images/blank.gif?z=693fc8'),\n",
       " ('Commercial Property to Rent in Lavington',\n",
       "  'KSh 500 000\\n                \\n\\n                        Per Month',\n",
       "  '/Content/Images/blank.gif?z=693fc8'),\n",
       " ('2 Bedroom Apartment / Flat to Rent in Upper Hill',\n",
       "  'KSh 200 000\\n                \\n\\n                        Per Month',\n",
       "  '/Content/Images/blank.gif?z=693fc8'),\n",
       " ('4 Bedroom Apartment / Flat to Rent in Kilimani',\n",
       "  'KSh 140 000\\n                \\n\\n                        Per Month',\n",
       "  'https://images.prop24.com/ecrnody7dqwgcnulk6zkplombm/Crop237x198'),\n",
       " ('5 Bedroom Townhouse to Rent in Kitisuru',\n",
       "  'KSh 550 000\\n                \\n\\n                        Per Month',\n",
       "  '/Content/Images/blank.gif?z=693fc8')]"
      ]
     },
     "execution_count": 28,
     "metadata": {},
     "output_type": "execute_result"
    }
   ],
   "source": [
    "get_rental_houses(page)"
   ]
  },
  {
   "cell_type": "code",
   "execution_count": 30,
   "id": "a9f1017e",
   "metadata": {},
   "outputs": [],
   "source": [
    "from IPython.display import Image, display"
   ]
  },
  {
   "cell_type": "code",
   "execution_count": 31,
   "id": "1de291da-850f-4dca-a8aa-f5fce48b9016",
   "metadata": {},
   "outputs": [],
   "source": [
    "rental_info = get_rental_houses(page)"
   ]
  },
  {
   "cell_type": "code",
   "execution_count": 33,
   "id": "1c15df0e-9a45-4d83-9730-563e67ad3089",
   "metadata": {},
   "outputs": [
    {
     "name": "stdout",
     "output_type": "stream",
     "text": [
      "5 Bedroom House to Rent in Karen\n",
      "KSh 450 000\n",
      "                \n",
      "\n",
      "                        Per Month\n"
     ]
    },
    {
     "data": {
      "text/html": [
       "<img src=\"https://images.prop24.com/ygggjuut6aphjgej3rielb57qi/Crop237x198\" width=\"50\"/>"
      ],
      "text/plain": [
       "<IPython.core.display.Image object>"
      ]
     },
     "metadata": {},
     "output_type": "display_data"
    },
    {
     "name": "stdout",
     "output_type": "stream",
     "text": [
      "3 Bedroom Apartment / Flat to Rent in Kilimani\n",
      "KSh 280 000\n",
      "                \n",
      "\n",
      "                        Per Month\n"
     ]
    },
    {
     "data": {
      "text/html": [
       "<img src=\"/Content/Images/blank.gif?z=693fc8\" width=\"50\"/>"
      ],
      "text/plain": [
       "<IPython.core.display.Image object>"
      ]
     },
     "metadata": {},
     "output_type": "display_data"
    },
    {
     "name": "stdout",
     "output_type": "stream",
     "text": [
      "5 Bedroom Townhouse to Rent in Karen\n",
      "KSh 350 000\n",
      "                \n",
      "\n",
      "                        Per Month\n"
     ]
    },
    {
     "data": {
      "text/html": [
       "<img src=\"/Property24/Content/Images/icon_360.png\" width=\"50\"/>"
      ],
      "text/plain": [
       "<IPython.core.display.Image object>"
      ]
     },
     "metadata": {},
     "output_type": "display_data"
    },
    {
     "name": "stdout",
     "output_type": "stream",
     "text": [
      "4 Bedroom Townhouse to Rent in Kiambu Road\n",
      "KSh 160 000\n",
      "                \n",
      "\n",
      "                        Per Month\n"
     ]
    },
    {
     "data": {
      "text/html": [
       "<img src=\"/Content/Images/blank.gif?z=693fc8\" width=\"50\"/>"
      ],
      "text/plain": [
       "<IPython.core.display.Image object>"
      ]
     },
     "metadata": {},
     "output_type": "display_data"
    },
    {
     "name": "stdout",
     "output_type": "stream",
     "text": [
      "Commercial Property to Rent in Lavington\n",
      "KSh 180 000\n",
      "                \n",
      "\n",
      "                        Per Month\n"
     ]
    },
    {
     "data": {
      "text/html": [
       "<img src=\"/Content/Images/blank.gif?z=693fc8\" width=\"50\"/>"
      ],
      "text/plain": [
       "<IPython.core.display.Image object>"
      ]
     },
     "metadata": {},
     "output_type": "display_data"
    },
    {
     "name": "stdout",
     "output_type": "stream",
     "text": [
      "4 Bedroom House to Rent in Karen\n",
      "KSh 250 000\n",
      "                \n",
      "\n",
      "                        Per Month\n"
     ]
    },
    {
     "data": {
      "text/html": [
       "<img src=\"/Content/Images/blank.gif?z=693fc8\" width=\"50\"/>"
      ],
      "text/plain": [
       "<IPython.core.display.Image object>"
      ]
     },
     "metadata": {},
     "output_type": "display_data"
    },
    {
     "name": "stdout",
     "output_type": "stream",
     "text": [
      "3 Bedroom Apartment / Flat to Rent in Westlands\n",
      "KSh 150 000\n",
      "                \n",
      "\n",
      "                        Per Month\n"
     ]
    },
    {
     "data": {
      "text/html": [
       "<img src=\"https://images.prop24.com/pefy4jgwpfhuekxi5pxlbghz2m/Crop237x198\" width=\"50\"/>"
      ],
      "text/plain": [
       "<IPython.core.display.Image object>"
      ]
     },
     "metadata": {},
     "output_type": "display_data"
    },
    {
     "name": "stdout",
     "output_type": "stream",
     "text": [
      "3 Bedroom Apartment / Flat to Rent in Westlands\n",
      "KSh 150 000\n",
      "                \n",
      "\n",
      "                        Per Month\n"
     ]
    },
    {
     "data": {
      "text/html": [
       "<img src=\"/Content/Images/blank.gif?z=693fc8\" width=\"50\"/>"
      ],
      "text/plain": [
       "<IPython.core.display.Image object>"
      ]
     },
     "metadata": {},
     "output_type": "display_data"
    },
    {
     "name": "stdout",
     "output_type": "stream",
     "text": [
      "4 Bedroom House to Rent in Kitisuru\n",
      "KSh 465 000\n",
      "                \n",
      "\n",
      "                        Per Month\n"
     ]
    },
    {
     "data": {
      "text/html": [
       "<img src=\"/Content/Images/blank.gif?z=693fc8\" width=\"50\"/>"
      ],
      "text/plain": [
       "<IPython.core.display.Image object>"
      ]
     },
     "metadata": {},
     "output_type": "display_data"
    },
    {
     "name": "stdout",
     "output_type": "stream",
     "text": [
      "2 Bedroom Apartment / Flat to Rent in Westlands\n",
      "KSh 90 000\n",
      "                \n",
      "\n",
      "                        Per Month\n"
     ]
    },
    {
     "data": {
      "text/html": [
       "<img src=\"/Content/Images/blank.gif?z=693fc8\" width=\"50\"/>"
      ],
      "text/plain": [
       "<IPython.core.display.Image object>"
      ]
     },
     "metadata": {},
     "output_type": "display_data"
    },
    {
     "name": "stdout",
     "output_type": "stream",
     "text": [
      "5 Bedroom House to Rent in Karen\n",
      "KSh 350 000\n",
      "                \n",
      "\n",
      "                        Per Month\n"
     ]
    },
    {
     "data": {
      "text/html": [
       "<img src=\"/Content/Images/blank.gif?z=693fc8\" width=\"50\"/>"
      ],
      "text/plain": [
       "<IPython.core.display.Image object>"
      ]
     },
     "metadata": {},
     "output_type": "display_data"
    },
    {
     "name": "stdout",
     "output_type": "stream",
     "text": [
      "3 Bedroom Apartment / Flat to Rent in Lavington\n",
      "KSh 170 000\n",
      "                \n",
      "\n",
      "                        Per Month\n"
     ]
    },
    {
     "data": {
      "text/html": [
       "<img src=\"/Content/Images/blank.gif?z=693fc8\" width=\"50\"/>"
      ],
      "text/plain": [
       "<IPython.core.display.Image object>"
      ]
     },
     "metadata": {},
     "output_type": "display_data"
    },
    {
     "name": "stdout",
     "output_type": "stream",
     "text": [
      "3 Bedroom Apartment / Flat to Rent in Kilimani\n",
      "KSh 100 000\n",
      "                \n",
      "\n",
      "                        Per Month\n"
     ]
    },
    {
     "data": {
      "text/html": [
       "<img src=\"https://images.prop24.com/t7ejm7qbahgb3k7jmlirnd7dyi/Crop237x198\" width=\"50\"/>"
      ],
      "text/plain": [
       "<IPython.core.display.Image object>"
      ]
     },
     "metadata": {},
     "output_type": "display_data"
    },
    {
     "name": "stdout",
     "output_type": "stream",
     "text": [
      "3 Bedroom Apartment / Flat to Rent in Parklands\n",
      "KSh 110 000\n",
      "                \n",
      "\n",
      "                        Per Month\n"
     ]
    },
    {
     "data": {
      "text/html": [
       "<img src=\"/Content/Images/blank.gif?z=693fc8\" width=\"50\"/>"
      ],
      "text/plain": [
       "<IPython.core.display.Image object>"
      ]
     },
     "metadata": {},
     "output_type": "display_data"
    },
    {
     "name": "stdout",
     "output_type": "stream",
     "text": [
      "4 Bedroom Townhouse to Rent in Kilimani\n",
      "KSh 155 000\n",
      "                \n",
      "\n",
      "                        Per Month\n"
     ]
    },
    {
     "data": {
      "text/html": [
       "<img src=\"/Property24/Content/Images/icon_360.png\" width=\"50\"/>"
      ],
      "text/plain": [
       "<IPython.core.display.Image object>"
      ]
     },
     "metadata": {},
     "output_type": "display_data"
    },
    {
     "name": "stdout",
     "output_type": "stream",
     "text": [
      "3 Bedroom Apartment / Flat to Rent in Kilimani\n",
      "KSh 280 000\n",
      "                \n",
      "\n",
      "                        Per Month\n"
     ]
    },
    {
     "data": {
      "text/html": [
       "<img src=\"/Content/Images/blank.gif?z=693fc8\" width=\"50\"/>"
      ],
      "text/plain": [
       "<IPython.core.display.Image object>"
      ]
     },
     "metadata": {},
     "output_type": "display_data"
    },
    {
     "name": "stdout",
     "output_type": "stream",
     "text": [
      "3 Bedroom Apartment / Flat to Rent in Parklands\n",
      "KSh 240 000\n",
      "                \n",
      "\n",
      "                        Per Month\n"
     ]
    },
    {
     "data": {
      "text/html": [
       "<img src=\"/Content/Images/blank.gif?z=693fc8\" width=\"50\"/>"
      ],
      "text/plain": [
       "<IPython.core.display.Image object>"
      ]
     },
     "metadata": {},
     "output_type": "display_data"
    },
    {
     "name": "stdout",
     "output_type": "stream",
     "text": [
      "Commercial Property to Rent in Lavington\n",
      "KSh 500 000\n",
      "                \n",
      "\n",
      "                        Per Month\n"
     ]
    },
    {
     "data": {
      "text/html": [
       "<img src=\"/Content/Images/blank.gif?z=693fc8\" width=\"50\"/>"
      ],
      "text/plain": [
       "<IPython.core.display.Image object>"
      ]
     },
     "metadata": {},
     "output_type": "display_data"
    },
    {
     "name": "stdout",
     "output_type": "stream",
     "text": [
      "2 Bedroom Apartment / Flat to Rent in Upper Hill\n",
      "KSh 200 000\n",
      "                \n",
      "\n",
      "                        Per Month\n"
     ]
    },
    {
     "data": {
      "text/html": [
       "<img src=\"/Content/Images/blank.gif?z=693fc8\" width=\"50\"/>"
      ],
      "text/plain": [
       "<IPython.core.display.Image object>"
      ]
     },
     "metadata": {},
     "output_type": "display_data"
    },
    {
     "name": "stdout",
     "output_type": "stream",
     "text": [
      "4 Bedroom Apartment / Flat to Rent in Kilimani\n",
      "KSh 140 000\n",
      "                \n",
      "\n",
      "                        Per Month\n"
     ]
    },
    {
     "data": {
      "text/html": [
       "<img src=\"https://images.prop24.com/ecrnody7dqwgcnulk6zkplombm/Crop237x198\" width=\"50\"/>"
      ],
      "text/plain": [
       "<IPython.core.display.Image object>"
      ]
     },
     "metadata": {},
     "output_type": "display_data"
    },
    {
     "name": "stdout",
     "output_type": "stream",
     "text": [
      "5 Bedroom Townhouse to Rent in Kitisuru\n",
      "KSh 550 000\n",
      "                \n",
      "\n",
      "                        Per Month\n"
     ]
    },
    {
     "data": {
      "text/html": [
       "<img src=\"/Content/Images/blank.gif?z=693fc8\" width=\"50\"/>"
      ],
      "text/plain": [
       "<IPython.core.display.Image object>"
      ]
     },
     "metadata": {},
     "output_type": "display_data"
    }
   ],
   "source": [
    "for rent in rental_info:\n",
    "    print(rent[0])\n",
    "    print(rent[1])\n",
    "    display(Image(url=rent[2], width=50))"
   ]
  },
  {
   "cell_type": "code",
   "execution_count": 36,
   "id": "cd9bb535-63cb-4763-992a-71306b73f52d",
   "metadata": {},
   "outputs": [],
   "source": [
    "import pandas as pd\n",
    "\n",
    "rent_df = pd.DataFrame(rental_info, columns=[\"title\", \"price\", \"cover-url\"])"
   ]
  },
  {
   "cell_type": "code",
   "execution_count": 37,
   "id": "098036fd-c12a-4c4f-81d8-d28ceb97af78",
   "metadata": {},
   "outputs": [
    {
     "data": {
      "text/html": [
       "<div>\n",
       "<style scoped>\n",
       "    .dataframe tbody tr th:only-of-type {\n",
       "        vertical-align: middle;\n",
       "    }\n",
       "\n",
       "    .dataframe tbody tr th {\n",
       "        vertical-align: top;\n",
       "    }\n",
       "\n",
       "    .dataframe thead th {\n",
       "        text-align: right;\n",
       "    }\n",
       "</style>\n",
       "<table border=\"1\" class=\"dataframe\">\n",
       "  <thead>\n",
       "    <tr style=\"text-align: right;\">\n",
       "      <th></th>\n",
       "      <th>title</th>\n",
       "      <th>price</th>\n",
       "      <th>cover-url</th>\n",
       "    </tr>\n",
       "  </thead>\n",
       "  <tbody>\n",
       "    <tr>\n",
       "      <th>0</th>\n",
       "      <td>5 Bedroom House to Rent in Karen</td>\n",
       "      <td>KSh 450 000\\n                \\n\\n             ...</td>\n",
       "      <td>https://images.prop24.com/ygggjuut6aphjgej3rie...</td>\n",
       "    </tr>\n",
       "    <tr>\n",
       "      <th>1</th>\n",
       "      <td>3 Bedroom Apartment / Flat to Rent in Kilimani</td>\n",
       "      <td>KSh 280 000\\n                \\n\\n             ...</td>\n",
       "      <td>/Content/Images/blank.gif?z=693fc8</td>\n",
       "    </tr>\n",
       "    <tr>\n",
       "      <th>2</th>\n",
       "      <td>5 Bedroom Townhouse to Rent in Karen</td>\n",
       "      <td>KSh 350 000\\n                \\n\\n             ...</td>\n",
       "      <td>/Property24/Content/Images/icon_360.png</td>\n",
       "    </tr>\n",
       "    <tr>\n",
       "      <th>3</th>\n",
       "      <td>4 Bedroom Townhouse to Rent in Kiambu Road</td>\n",
       "      <td>KSh 160 000\\n                \\n\\n             ...</td>\n",
       "      <td>/Content/Images/blank.gif?z=693fc8</td>\n",
       "    </tr>\n",
       "    <tr>\n",
       "      <th>4</th>\n",
       "      <td>Commercial Property to Rent in Lavington</td>\n",
       "      <td>KSh 180 000\\n                \\n\\n             ...</td>\n",
       "      <td>/Content/Images/blank.gif?z=693fc8</td>\n",
       "    </tr>\n",
       "    <tr>\n",
       "      <th>5</th>\n",
       "      <td>4 Bedroom House to Rent in Karen</td>\n",
       "      <td>KSh 250 000\\n                \\n\\n             ...</td>\n",
       "      <td>/Content/Images/blank.gif?z=693fc8</td>\n",
       "    </tr>\n",
       "    <tr>\n",
       "      <th>6</th>\n",
       "      <td>3 Bedroom Apartment / Flat to Rent in Westlands</td>\n",
       "      <td>KSh 150 000\\n                \\n\\n             ...</td>\n",
       "      <td>https://images.prop24.com/pefy4jgwpfhuekxi5pxl...</td>\n",
       "    </tr>\n",
       "    <tr>\n",
       "      <th>7</th>\n",
       "      <td>3 Bedroom Apartment / Flat to Rent in Westlands</td>\n",
       "      <td>KSh 150 000\\n                \\n\\n             ...</td>\n",
       "      <td>/Content/Images/blank.gif?z=693fc8</td>\n",
       "    </tr>\n",
       "    <tr>\n",
       "      <th>8</th>\n",
       "      <td>4 Bedroom House to Rent in Kitisuru</td>\n",
       "      <td>KSh 465 000\\n                \\n\\n             ...</td>\n",
       "      <td>/Content/Images/blank.gif?z=693fc8</td>\n",
       "    </tr>\n",
       "    <tr>\n",
       "      <th>9</th>\n",
       "      <td>2 Bedroom Apartment / Flat to Rent in Westlands</td>\n",
       "      <td>KSh 90 000\\n                \\n\\n              ...</td>\n",
       "      <td>/Content/Images/blank.gif?z=693fc8</td>\n",
       "    </tr>\n",
       "    <tr>\n",
       "      <th>10</th>\n",
       "      <td>5 Bedroom House to Rent in Karen</td>\n",
       "      <td>KSh 350 000\\n                \\n\\n             ...</td>\n",
       "      <td>/Content/Images/blank.gif?z=693fc8</td>\n",
       "    </tr>\n",
       "    <tr>\n",
       "      <th>11</th>\n",
       "      <td>3 Bedroom Apartment / Flat to Rent in Lavington</td>\n",
       "      <td>KSh 170 000\\n                \\n\\n             ...</td>\n",
       "      <td>/Content/Images/blank.gif?z=693fc8</td>\n",
       "    </tr>\n",
       "    <tr>\n",
       "      <th>12</th>\n",
       "      <td>3 Bedroom Apartment / Flat to Rent in Kilimani</td>\n",
       "      <td>KSh 100 000\\n                \\n\\n             ...</td>\n",
       "      <td>https://images.prop24.com/t7ejm7qbahgb3k7jmlir...</td>\n",
       "    </tr>\n",
       "    <tr>\n",
       "      <th>13</th>\n",
       "      <td>3 Bedroom Apartment / Flat to Rent in Parklands</td>\n",
       "      <td>KSh 110 000\\n                \\n\\n             ...</td>\n",
       "      <td>/Content/Images/blank.gif?z=693fc8</td>\n",
       "    </tr>\n",
       "    <tr>\n",
       "      <th>14</th>\n",
       "      <td>4 Bedroom Townhouse to Rent in Kilimani</td>\n",
       "      <td>KSh 155 000\\n                \\n\\n             ...</td>\n",
       "      <td>/Property24/Content/Images/icon_360.png</td>\n",
       "    </tr>\n",
       "    <tr>\n",
       "      <th>15</th>\n",
       "      <td>3 Bedroom Apartment / Flat to Rent in Kilimani</td>\n",
       "      <td>KSh 280 000\\n                \\n\\n             ...</td>\n",
       "      <td>/Content/Images/blank.gif?z=693fc8</td>\n",
       "    </tr>\n",
       "    <tr>\n",
       "      <th>16</th>\n",
       "      <td>3 Bedroom Apartment / Flat to Rent in Parklands</td>\n",
       "      <td>KSh 240 000\\n                \\n\\n             ...</td>\n",
       "      <td>/Content/Images/blank.gif?z=693fc8</td>\n",
       "    </tr>\n",
       "    <tr>\n",
       "      <th>17</th>\n",
       "      <td>Commercial Property to Rent in Lavington</td>\n",
       "      <td>KSh 500 000\\n                \\n\\n             ...</td>\n",
       "      <td>/Content/Images/blank.gif?z=693fc8</td>\n",
       "    </tr>\n",
       "    <tr>\n",
       "      <th>18</th>\n",
       "      <td>2 Bedroom Apartment / Flat to Rent in Upper Hill</td>\n",
       "      <td>KSh 200 000\\n                \\n\\n             ...</td>\n",
       "      <td>/Content/Images/blank.gif?z=693fc8</td>\n",
       "    </tr>\n",
       "    <tr>\n",
       "      <th>19</th>\n",
       "      <td>4 Bedroom Apartment / Flat to Rent in Kilimani</td>\n",
       "      <td>KSh 140 000\\n                \\n\\n             ...</td>\n",
       "      <td>https://images.prop24.com/ecrnody7dqwgcnulk6zk...</td>\n",
       "    </tr>\n",
       "    <tr>\n",
       "      <th>20</th>\n",
       "      <td>5 Bedroom Townhouse to Rent in Kitisuru</td>\n",
       "      <td>KSh 550 000\\n                \\n\\n             ...</td>\n",
       "      <td>/Content/Images/blank.gif?z=693fc8</td>\n",
       "    </tr>\n",
       "  </tbody>\n",
       "</table>\n",
       "</div>"
      ],
      "text/plain": [
       "                                               title  \\\n",
       "0                   5 Bedroom House to Rent in Karen   \n",
       "1     3 Bedroom Apartment / Flat to Rent in Kilimani   \n",
       "2               5 Bedroom Townhouse to Rent in Karen   \n",
       "3         4 Bedroom Townhouse to Rent in Kiambu Road   \n",
       "4           Commercial Property to Rent in Lavington   \n",
       "5                   4 Bedroom House to Rent in Karen   \n",
       "6    3 Bedroom Apartment / Flat to Rent in Westlands   \n",
       "7    3 Bedroom Apartment / Flat to Rent in Westlands   \n",
       "8                4 Bedroom House to Rent in Kitisuru   \n",
       "9    2 Bedroom Apartment / Flat to Rent in Westlands   \n",
       "10                  5 Bedroom House to Rent in Karen   \n",
       "11   3 Bedroom Apartment / Flat to Rent in Lavington   \n",
       "12    3 Bedroom Apartment / Flat to Rent in Kilimani   \n",
       "13   3 Bedroom Apartment / Flat to Rent in Parklands   \n",
       "14           4 Bedroom Townhouse to Rent in Kilimani   \n",
       "15    3 Bedroom Apartment / Flat to Rent in Kilimani   \n",
       "16   3 Bedroom Apartment / Flat to Rent in Parklands   \n",
       "17          Commercial Property to Rent in Lavington   \n",
       "18  2 Bedroom Apartment / Flat to Rent in Upper Hill   \n",
       "19    4 Bedroom Apartment / Flat to Rent in Kilimani   \n",
       "20           5 Bedroom Townhouse to Rent in Kitisuru   \n",
       "\n",
       "                                                price  \\\n",
       "0   KSh 450 000\\n                \\n\\n             ...   \n",
       "1   KSh 280 000\\n                \\n\\n             ...   \n",
       "2   KSh 350 000\\n                \\n\\n             ...   \n",
       "3   KSh 160 000\\n                \\n\\n             ...   \n",
       "4   KSh 180 000\\n                \\n\\n             ...   \n",
       "5   KSh 250 000\\n                \\n\\n             ...   \n",
       "6   KSh 150 000\\n                \\n\\n             ...   \n",
       "7   KSh 150 000\\n                \\n\\n             ...   \n",
       "8   KSh 465 000\\n                \\n\\n             ...   \n",
       "9   KSh 90 000\\n                \\n\\n              ...   \n",
       "10  KSh 350 000\\n                \\n\\n             ...   \n",
       "11  KSh 170 000\\n                \\n\\n             ...   \n",
       "12  KSh 100 000\\n                \\n\\n             ...   \n",
       "13  KSh 110 000\\n                \\n\\n             ...   \n",
       "14  KSh 155 000\\n                \\n\\n             ...   \n",
       "15  KSh 280 000\\n                \\n\\n             ...   \n",
       "16  KSh 240 000\\n                \\n\\n             ...   \n",
       "17  KSh 500 000\\n                \\n\\n             ...   \n",
       "18  KSh 200 000\\n                \\n\\n             ...   \n",
       "19  KSh 140 000\\n                \\n\\n             ...   \n",
       "20  KSh 550 000\\n                \\n\\n             ...   \n",
       "\n",
       "                                            cover-url  \n",
       "0   https://images.prop24.com/ygggjuut6aphjgej3rie...  \n",
       "1                  /Content/Images/blank.gif?z=693fc8  \n",
       "2             /Property24/Content/Images/icon_360.png  \n",
       "3                  /Content/Images/blank.gif?z=693fc8  \n",
       "4                  /Content/Images/blank.gif?z=693fc8  \n",
       "5                  /Content/Images/blank.gif?z=693fc8  \n",
       "6   https://images.prop24.com/pefy4jgwpfhuekxi5pxl...  \n",
       "7                  /Content/Images/blank.gif?z=693fc8  \n",
       "8                  /Content/Images/blank.gif?z=693fc8  \n",
       "9                  /Content/Images/blank.gif?z=693fc8  \n",
       "10                 /Content/Images/blank.gif?z=693fc8  \n",
       "11                 /Content/Images/blank.gif?z=693fc8  \n",
       "12  https://images.prop24.com/t7ejm7qbahgb3k7jmlir...  \n",
       "13                 /Content/Images/blank.gif?z=693fc8  \n",
       "14            /Property24/Content/Images/icon_360.png  \n",
       "15                 /Content/Images/blank.gif?z=693fc8  \n",
       "16                 /Content/Images/blank.gif?z=693fc8  \n",
       "17                 /Content/Images/blank.gif?z=693fc8  \n",
       "18                 /Content/Images/blank.gif?z=693fc8  \n",
       "19  https://images.prop24.com/ecrnody7dqwgcnulk6zk...  \n",
       "20                 /Content/Images/blank.gif?z=693fc8  "
      ]
     },
     "execution_count": 37,
     "metadata": {},
     "output_type": "execute_result"
    }
   ],
   "source": [
    "rent_df"
   ]
  },
  {
   "cell_type": "code",
   "execution_count": 39,
   "id": "eab7a368-180e-4236-b125-bc83cfaab27b",
   "metadata": {},
   "outputs": [
    {
     "data": {
      "text/html": [
       "<div>\n",
       "<style scoped>\n",
       "    .dataframe tbody tr th:only-of-type {\n",
       "        vertical-align: middle;\n",
       "    }\n",
       "\n",
       "    .dataframe tbody tr th {\n",
       "        vertical-align: top;\n",
       "    }\n",
       "\n",
       "    .dataframe thead th {\n",
       "        text-align: right;\n",
       "    }\n",
       "</style>\n",
       "<table border=\"1\" class=\"dataframe\">\n",
       "  <thead>\n",
       "    <tr style=\"text-align: right;\">\n",
       "      <th></th>\n",
       "      <th>price</th>\n",
       "      <th>cover-url</th>\n",
       "    </tr>\n",
       "    <tr>\n",
       "      <th>title</th>\n",
       "      <th></th>\n",
       "      <th></th>\n",
       "    </tr>\n",
       "  </thead>\n",
       "  <tbody>\n",
       "    <tr>\n",
       "      <th>3 Bedroom Apartment / Flat to Rent in Kilimani</th>\n",
       "      <td>3</td>\n",
       "      <td>3</td>\n",
       "    </tr>\n",
       "    <tr>\n",
       "      <th>3 Bedroom Apartment / Flat to Rent in Parklands</th>\n",
       "      <td>2</td>\n",
       "      <td>2</td>\n",
       "    </tr>\n",
       "    <tr>\n",
       "      <th>3 Bedroom Apartment / Flat to Rent in Westlands</th>\n",
       "      <td>2</td>\n",
       "      <td>2</td>\n",
       "    </tr>\n",
       "    <tr>\n",
       "      <th>5 Bedroom House to Rent in Karen</th>\n",
       "      <td>2</td>\n",
       "      <td>2</td>\n",
       "    </tr>\n",
       "    <tr>\n",
       "      <th>Commercial Property to Rent in Lavington</th>\n",
       "      <td>2</td>\n",
       "      <td>2</td>\n",
       "    </tr>\n",
       "    <tr>\n",
       "      <th>2 Bedroom Apartment / Flat to Rent in Upper Hill</th>\n",
       "      <td>1</td>\n",
       "      <td>1</td>\n",
       "    </tr>\n",
       "    <tr>\n",
       "      <th>2 Bedroom Apartment / Flat to Rent in Westlands</th>\n",
       "      <td>1</td>\n",
       "      <td>1</td>\n",
       "    </tr>\n",
       "    <tr>\n",
       "      <th>3 Bedroom Apartment / Flat to Rent in Lavington</th>\n",
       "      <td>1</td>\n",
       "      <td>1</td>\n",
       "    </tr>\n",
       "    <tr>\n",
       "      <th>4 Bedroom Apartment / Flat to Rent in Kilimani</th>\n",
       "      <td>1</td>\n",
       "      <td>1</td>\n",
       "    </tr>\n",
       "    <tr>\n",
       "      <th>4 Bedroom House to Rent in Karen</th>\n",
       "      <td>1</td>\n",
       "      <td>1</td>\n",
       "    </tr>\n",
       "    <tr>\n",
       "      <th>4 Bedroom House to Rent in Kitisuru</th>\n",
       "      <td>1</td>\n",
       "      <td>1</td>\n",
       "    </tr>\n",
       "    <tr>\n",
       "      <th>4 Bedroom Townhouse to Rent in Kiambu Road</th>\n",
       "      <td>1</td>\n",
       "      <td>1</td>\n",
       "    </tr>\n",
       "    <tr>\n",
       "      <th>4 Bedroom Townhouse to Rent in Kilimani</th>\n",
       "      <td>1</td>\n",
       "      <td>1</td>\n",
       "    </tr>\n",
       "    <tr>\n",
       "      <th>5 Bedroom Townhouse to Rent in Karen</th>\n",
       "      <td>1</td>\n",
       "      <td>1</td>\n",
       "    </tr>\n",
       "    <tr>\n",
       "      <th>5 Bedroom Townhouse to Rent in Kitisuru</th>\n",
       "      <td>1</td>\n",
       "      <td>1</td>\n",
       "    </tr>\n",
       "  </tbody>\n",
       "</table>\n",
       "</div>"
      ],
      "text/plain": [
       "                                                  price  cover-url\n",
       "title                                                             \n",
       "3 Bedroom Apartment / Flat to Rent in Kilimani        3          3\n",
       "3 Bedroom Apartment / Flat to Rent in Parklands       2          2\n",
       "3 Bedroom Apartment / Flat to Rent in Westlands       2          2\n",
       "5 Bedroom House to Rent in Karen                      2          2\n",
       "Commercial Property to Rent in Lavington              2          2\n",
       "2 Bedroom Apartment / Flat to Rent in Upper Hill      1          1\n",
       "2 Bedroom Apartment / Flat to Rent in Westlands       1          1\n",
       "3 Bedroom Apartment / Flat to Rent in Lavington       1          1\n",
       "4 Bedroom Apartment / Flat to Rent in Kilimani        1          1\n",
       "4 Bedroom House to Rent in Karen                      1          1\n",
       "4 Bedroom House to Rent in Kitisuru                   1          1\n",
       "4 Bedroom Townhouse to Rent in Kiambu Road            1          1\n",
       "4 Bedroom Townhouse to Rent in Kilimani               1          1\n",
       "5 Bedroom Townhouse to Rent in Karen                  1          1\n",
       "5 Bedroom Townhouse to Rent in Kitisuru               1          1"
      ]
     },
     "execution_count": 39,
     "metadata": {},
     "output_type": "execute_result"
    }
   ],
   "source": [
    "rent_df.groupby([\"title\"]).agg(\"count\").sort_values(\"price\", ascending=False)"
   ]
  },
  {
   "cell_type": "code",
   "execution_count": null,
   "id": "3a826a40-db3c-4e24-88e2-fac84ba5306f",
   "metadata": {},
   "outputs": [],
   "source": []
  }
 ],
 "metadata": {
  "kernelspec": {
   "display_name": "Python 3 (ipykernel)",
   "language": "python",
   "name": "python3"
  },
  "language_info": {
   "codemirror_mode": {
    "name": "ipython",
    "version": 3
   },
   "file_extension": ".py",
   "mimetype": "text/x-python",
   "name": "python",
   "nbconvert_exporter": "python",
   "pygments_lexer": "ipython3",
   "version": "3.11.4"
  }
 },
 "nbformat": 4,
 "nbformat_minor": 5
}
